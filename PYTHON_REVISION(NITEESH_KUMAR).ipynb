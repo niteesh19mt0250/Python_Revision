{
  "nbformat": 4,
  "nbformat_minor": 0,
  "metadata": {
    "colab": {
      "provenance": [],
      "authorship_tag": "ABX9TyNUNs/Tu2JJmpN4dtPm9ScH",
      "include_colab_link": true
    },
    "kernelspec": {
      "name": "python3",
      "display_name": "Python 3"
    },
    "language_info": {
      "name": "python"
    }
  },
  "cells": [
    {
      "cell_type": "markdown",
      "metadata": {
        "id": "view-in-github",
        "colab_type": "text"
      },
      "source": [
        "<a href=\"https://colab.research.google.com/github/niteesh19mt0250/Python_Revision/blob/main/PYTHON_REVISION(NITEESH_KUMAR).ipynb\" target=\"_parent\"><img src=\"https://colab.research.google.com/assets/colab-badge.svg\" alt=\"Open In Colab\"/></a>"
      ]
    },
    {
      "cell_type": "markdown",
      "source": [
        "# Introduction to Computer Programming"
      ],
      "metadata": {
        "id": "9hJJmh2O5bwi"
      }
    },
    {
      "cell_type": "markdown",
      "source": [
        "## 1.  Introduction to Python & Google Colaboratory"
      ],
      "metadata": {
        "id": "A0vAElnB83XG"
      }
    },
    {
      "cell_type": "markdown",
      "source": [
        "## 2. Integers, Floats and Booleans"
      ],
      "metadata": {
        "id": "LhfoO2RM9BM3"
      }
    },
    {
      "cell_type": "markdown",
      "source": [
        "## 3.  Introduction to Strings"
      ],
      "metadata": {
        "id": "DkAjmXkK9JHV"
      }
    },
    {
      "cell_type": "markdown",
      "source": [
        "## 4. Introduction of List"
      ],
      "metadata": {
        "id": "8OIuzWYu9OiP"
      }
    },
    {
      "cell_type": "markdown",
      "source": [
        "## Introduction of Tuples, Set and Dictionary"
      ],
      "metadata": {
        "id": "8rQxEKeO9TP7"
      }
    },
    {
      "cell_type": "code",
      "source": [],
      "metadata": {
        "id": "1eQoSiF682kd"
      },
      "execution_count": null,
      "outputs": []
    },
    {
      "cell_type": "code",
      "execution_count": null,
      "metadata": {
        "id": "bTKlaPUqFU9y"
      },
      "outputs": [],
      "source": []
    }
  ]
}